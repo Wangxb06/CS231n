{
 "cells": [
  {
   "cell_type": "markdown",
   "metadata": {},
   "source": [
    "# Softmax exercise\n",
    "\n",
    "*Complete and hand in this completed worksheet (including its outputs and any supporting code outside of the worksheet) with your assignment submission. For more details see the [assignments page](http://vision.stanford.edu/teaching/cs231n/assignments.html) on the course website.*\n",
    "\n",
    "This exercise is analogous to the SVM exercise. You will:\n",
    "\n",
    "- implement a fully-vectorized **loss function** for the Softmax classifier\n",
    "- implement the fully-vectorized expression for its **analytic gradient**\n",
    "- **check your implementation** with numerical gradient\n",
    "- use a validation set to **tune the learning rate and regularization** strength\n",
    "- **optimize** the loss function with **SGD**\n",
    "- **visualize** the final learned weights\n"
   ]
  },
  {
   "cell_type": "code",
   "execution_count": 1,
   "metadata": {},
   "outputs": [],
   "source": [
    "import random\n",
    "import numpy as np\n",
    "from cs231n.data_utils import load_CIFAR10\n",
    "import matplotlib.pyplot as plt\n",
    "\n",
    "from __future__ import print_function\n",
    "\n",
    "%matplotlib inline\n",
    "plt.rcParams['figure.figsize'] = (10.0, 8.0) # set default size of plots\n",
    "plt.rcParams['image.interpolation'] = 'nearest'\n",
    "plt.rcParams['image.cmap'] = 'gray'\n",
    "\n",
    "# for auto-reloading extenrnal modules\n",
    "# see http://stackoverflow.com/questions/1907993/autoreload-of-modules-in-ipython\n",
    "%load_ext autoreload\n",
    "%autoreload 2"
   ]
  },
  {
   "cell_type": "code",
   "execution_count": 2,
   "metadata": {},
   "outputs": [
    {
     "name": "stdout",
     "output_type": "stream",
     "text": [
      "Train data shape:  (49000, 3073)\n",
      "Train labels shape:  (49000,)\n",
      "Validation data shape:  (1000, 3073)\n",
      "Validation labels shape:  (1000,)\n",
      "Test data shape:  (1000, 3073)\n",
      "Test labels shape:  (1000,)\n",
      "dev data shape:  (500, 3073)\n",
      "dev labels shape:  (500,)\n"
     ]
    }
   ],
   "source": [
    "def get_CIFAR10_data(num_training=49000, num_validation=1000, num_test=1000, num_dev=500):\n",
    "    \"\"\"\n",
    "    Load the CIFAR-10 dataset from disk and perform preprocessing to prepare\n",
    "    it for the linear classifier. These are the same steps as we used for the\n",
    "    SVM, but condensed to a single function.  \n",
    "    \"\"\"\n",
    "    # Load the raw CIFAR-10 data\n",
    "    cifar10_dir = 'cs231n/datasets/cifar-10-batches-py'\n",
    "    \n",
    "    X_train, y_train, X_test, y_test = load_CIFAR10(cifar10_dir)\n",
    "    \n",
    "    # subsample the data\n",
    "    mask = list(range(num_training, num_training + num_validation))\n",
    "    X_val = X_train[mask]\n",
    "    y_val = y_train[mask]\n",
    "    mask = list(range(num_training))\n",
    "    X_train = X_train[mask]\n",
    "    y_train = y_train[mask]\n",
    "    mask = list(range(num_test))\n",
    "    X_test = X_test[mask]\n",
    "    y_test = y_test[mask]\n",
    "    mask = np.random.choice(num_training, num_dev, replace=False)\n",
    "    X_dev = X_train[mask]\n",
    "    y_dev = y_train[mask]\n",
    "    \n",
    "    # Preprocessing: reshape the image data into rows\n",
    "    X_train = np.reshape(X_train, (X_train.shape[0], -1))\n",
    "    X_val = np.reshape(X_val, (X_val.shape[0], -1))\n",
    "    X_test = np.reshape(X_test, (X_test.shape[0], -1))\n",
    "    X_dev = np.reshape(X_dev, (X_dev.shape[0], -1))\n",
    "    \n",
    "    # Normalize the data: subtract the mean image\n",
    "    mean_image = np.mean(X_train, axis = 0)\n",
    "    X_train -= mean_image\n",
    "    X_val -= mean_image\n",
    "    X_test -= mean_image\n",
    "    X_dev -= mean_image\n",
    "    \n",
    "    # add bias dimension and transform into columns\n",
    "    X_train = np.hstack([X_train, np.ones((X_train.shape[0], 1))])\n",
    "    X_val = np.hstack([X_val, np.ones((X_val.shape[0], 1))])\n",
    "    X_test = np.hstack([X_test, np.ones((X_test.shape[0], 1))])\n",
    "    X_dev = np.hstack([X_dev, np.ones((X_dev.shape[0], 1))])\n",
    "    \n",
    "    return X_train, y_train, X_val, y_val, X_test, y_test, X_dev, y_dev\n",
    "\n",
    "\n",
    "# Cleaning up variables to prevent loading data multiple times (which may cause memory issue)\n",
    "try:\n",
    "   del X_train, y_train\n",
    "   del X_test, y_test\n",
    "   print('Clear previously loaded data.')\n",
    "except:\n",
    "   pass\n",
    "\n",
    "# Invoke the above function to get our data.\n",
    "X_train, y_train, X_val, y_val, X_test, y_test, X_dev, y_dev = get_CIFAR10_data()\n",
    "print('Train data shape: ', X_train.shape)\n",
    "print('Train labels shape: ', y_train.shape)\n",
    "print('Validation data shape: ', X_val.shape)\n",
    "print('Validation labels shape: ', y_val.shape)\n",
    "print('Test data shape: ', X_test.shape)\n",
    "print('Test labels shape: ', y_test.shape)\n",
    "print('dev data shape: ', X_dev.shape)\n",
    "print('dev labels shape: ', y_dev.shape)"
   ]
  },
  {
   "cell_type": "markdown",
   "metadata": {},
   "source": [
    "## Softmax Classifier\n",
    "\n",
    "Your code for this section will all be written inside **cs231n/classifiers/softmax.py**. \n"
   ]
  },
  {
   "cell_type": "code",
   "execution_count": 37,
   "metadata": {},
   "outputs": [
    {
     "name": "stdout",
     "output_type": "stream",
     "text": [
      "loss: 2.353709\n",
      "sanity check: 2.302585\n"
     ]
    }
   ],
   "source": [
    "# First implement the naive softmax loss function with nested loops.\n",
    "# Open the file cs231n/classifiers/softmax.py and implement the\n",
    "# softmax_loss_naive function.\n",
    "\n",
    "from cs231n.classifiers.softmax import softmax_loss_naive,softmax_loss_vectorized\n",
    "import time\n",
    "\n",
    "# Generate a random softmax weight matrix and use it to compute the loss.\n",
    "W = np.random.randn(3073, 10) * 0.0001\n",
    "#loss, grad = softmax_loss_naive(W, X_dev, y_dev, 0.0)\n",
    "\n",
    "loss, grad = softmax_loss_vectorized(W, X_dev, y_dev, 0.0)\n",
    "# As a rough sanity check, our loss should be something close to -log(0.1).\n",
    "print('loss: %f' % loss)\n",
    "print('sanity check: %f' % (-np.log(0.1)))"
   ]
  },
  {
   "cell_type": "markdown",
   "metadata": {},
   "source": [
    "## Inline Question 1:\n",
    "Why do we expect our loss to be close to -log(0.1)? Explain briefly.**\n",
    "\n",
    "**Your answer:** 变量初始化之后，没有经过任何训练，因此只有先验信息，就是对每一个种类的估计是一样的概率0.1。\n"
   ]
  },
  {
   "cell_type": "code",
   "execution_count": 38,
   "metadata": {},
   "outputs": [
    {
     "name": "stdout",
     "output_type": "stream",
     "text": [
      "numerical: 1.458486 analytic: 1.458486, relative error: 1.943923e-08\n",
      "numerical: 2.197583 analytic: 2.197583, relative error: 1.024862e-08\n",
      "numerical: -0.014123 analytic: -0.014123, relative error: 3.715585e-06\n",
      "numerical: -1.669598 analytic: -1.669598, relative error: 5.976551e-10\n",
      "numerical: 1.348629 analytic: 1.348629, relative error: 4.626956e-08\n",
      "numerical: 2.980510 analytic: 2.980510, relative error: 1.257357e-08\n",
      "numerical: -0.250637 analytic: -0.250637, relative error: 1.172731e-07\n",
      "numerical: -4.463132 analytic: -4.463132, relative error: 8.272438e-09\n",
      "numerical: -0.279085 analytic: -0.279085, relative error: 3.169608e-08\n",
      "numerical: -0.951685 analytic: -0.951685, relative error: 1.384030e-08\n",
      "numerical: 3.169221 analytic: 3.169221, relative error: 1.771881e-08\n",
      "numerical: -3.522597 analytic: -3.522597, relative error: 2.285598e-08\n",
      "numerical: -0.803802 analytic: -0.803802, relative error: 7.058602e-09\n",
      "numerical: 0.513479 analytic: 0.513478, relative error: 1.286413e-07\n",
      "numerical: 0.087557 analytic: 0.087556, relative error: 6.711134e-07\n",
      "numerical: -0.647444 analytic: -0.647444, relative error: 3.974225e-09\n",
      "numerical: -0.780760 analytic: -0.780760, relative error: 1.035681e-09\n",
      "numerical: 1.131129 analytic: 1.131129, relative error: 1.094234e-08\n",
      "numerical: 2.446950 analytic: 2.446950, relative error: 2.797086e-09\n",
      "numerical: 3.606181 analytic: 3.606181, relative error: 7.365323e-09\n"
     ]
    }
   ],
   "source": [
    "# Complete the implementation of softmax_loss_naive and implement a (naive)\n",
    "# version of the gradient that uses nested loops.\n",
    "loss, grad = softmax_loss_naive(W, X_dev, y_dev, 0.0)\n",
    "\n",
    "# As we did for the SVM, use numeric gradient checking as a debugging tool.\n",
    "# The numeric gradient should be close to the analytic gradient.\n",
    "from cs231n.gradient_check import grad_check_sparse\n",
    "f = lambda w: softmax_loss_naive(w, X_dev, y_dev, 0.0)[0]\n",
    "grad_numerical = grad_check_sparse(f, W, grad, 10)\n",
    "\n",
    "# similar to SVM case, do another gradient check with regularization\n",
    "loss, grad = softmax_loss_naive(W, X_dev, y_dev, 5e1)\n",
    "f = lambda w: softmax_loss_naive(w, X_dev, y_dev, 5e1)[0]\n",
    "grad_numerical = grad_check_sparse(f, W, grad, 10)"
   ]
  },
  {
   "cell_type": "code",
   "execution_count": 49,
   "metadata": {},
   "outputs": [
    {
     "name": "stdout",
     "output_type": "stream",
     "text": [
      "naive loss: 7.133946e-01 computed in 0.306492s\n",
      "vectorized loss: 7.133946e-01 computed in 0.017069s\n",
      "Loss difference: 0.000000\n",
      "Gradient difference: 0.000000\n"
     ]
    }
   ],
   "source": [
    "# Now that we have a naive implementation of the softmax loss function and its gradient,\n",
    "# implement a vectorized version in softmax_loss_vectorized.\n",
    "# The two versions should compute the same results, but the vectorized version should be\n",
    "# much faster.\n",
    "tic = time.time()\n",
    "loss_naive, grad_naive = softmax_loss_naive(W, X_dev, y_dev, 0.000005)\n",
    "toc = time.time()\n",
    "print('naive loss: %e computed in %fs' % (loss_naive, toc - tic))\n",
    "\n",
    "from cs231n.classifiers.softmax import softmax_loss_vectorized\n",
    "tic = time.time()\n",
    "loss_vectorized, grad_vectorized = softmax_loss_vectorized(W, X_dev, y_dev, 0.000005)\n",
    "toc = time.time()\n",
    "print('vectorized loss: %e computed in %fs' % (loss_vectorized, toc - tic))\n",
    "\n",
    "# As we did for the SVM, we use the Frobenius norm to compare the two versions\n",
    "# of the gradient.\n",
    "grad_difference = np.linalg.norm(grad_naive - grad_vectorized, ord='fro')\n",
    "print('Loss difference: %f' % np.abs(loss_naive - loss_vectorized))\n",
    "print('Gradient difference: %f' % grad_difference)"
   ]
  },
  {
   "cell_type": "code",
   "execution_count": 65,
   "metadata": {},
   "outputs": [
    {
     "name": "stdout",
     "output_type": "stream",
     "text": [
      "iteration 0 / 1201: loss 2.399948\n",
      "iteration 100 / 1201: loss 1.841087\n",
      "iteration 200 / 1201: loss 1.800265\n",
      "iteration 300 / 1201: loss 1.773755\n",
      "iteration 400 / 1201: loss 1.749029\n",
      "iteration 500 / 1201: loss 1.753260\n",
      "iteration 600 / 1201: loss 1.733749\n",
      "iteration 700 / 1201: loss 1.711679\n",
      "iteration 800 / 1201: loss 1.714250\n",
      "iteration 900 / 1201: loss 1.715344\n",
      "iteration 1000 / 1201: loss 1.701210\n",
      "iteration 1100 / 1201: loss 1.706316\n",
      "iteration 1200 / 1201: loss 1.709627\n",
      "iteration 0 / 1201: loss 2.350935\n",
      "iteration 100 / 1201: loss 1.842139\n",
      "iteration 200 / 1201: loss 1.798491\n",
      "iteration 300 / 1201: loss 1.763566\n",
      "iteration 400 / 1201: loss 1.757321\n",
      "iteration 500 / 1201: loss 1.735530\n",
      "iteration 600 / 1201: loss 1.725805\n",
      "iteration 700 / 1201: loss 1.725323\n",
      "iteration 800 / 1201: loss 1.697053\n",
      "iteration 900 / 1201: loss 1.736906\n",
      "iteration 1000 / 1201: loss 1.707144\n",
      "iteration 1100 / 1201: loss 1.714562\n",
      "iteration 1200 / 1201: loss 1.682492\n",
      "iteration 0 / 1201: loss 2.331034\n",
      "iteration 100 / 1201: loss 1.796542\n",
      "iteration 200 / 1201: loss 1.762912\n",
      "iteration 300 / 1201: loss 1.731595\n",
      "iteration 400 / 1201: loss 1.727802\n",
      "iteration 500 / 1201: loss 1.719322\n",
      "iteration 600 / 1201: loss 1.726720\n",
      "iteration 700 / 1201: loss 1.693795\n",
      "iteration 800 / 1201: loss 1.712909\n",
      "iteration 900 / 1201: loss 1.694896\n",
      "iteration 1000 / 1201: loss 1.712132\n",
      "iteration 1100 / 1201: loss 1.685966\n",
      "iteration 1200 / 1201: loss 1.640039\n",
      "iteration 0 / 1201: loss 2.345432\n",
      "iteration 100 / 1201: loss 1.794625\n",
      "iteration 200 / 1201: loss 1.751455\n",
      "iteration 300 / 1201: loss 1.729658\n",
      "iteration 400 / 1201: loss 1.713420\n",
      "iteration 500 / 1201: loss 1.691654\n",
      "iteration 600 / 1201: loss 1.723866\n",
      "iteration 700 / 1201: loss 1.686521\n",
      "iteration 800 / 1201: loss 1.691804\n",
      "iteration 900 / 1201: loss 1.663400\n",
      "iteration 1000 / 1201: loss 1.690777\n",
      "iteration 1100 / 1201: loss 1.674694\n",
      "iteration 1200 / 1201: loss 1.675699\n",
      "lr 1.000000e-06 reg 2.500000e-04 train accuracy: 0.422020 val accuracy: 0.410000\n",
      "lr 1.000000e-06 reg 5.000000e-04 train accuracy: 0.422653 val accuracy: 0.404000\n",
      "lr 2.000000e-06 reg 2.500000e-04 train accuracy: 0.434878 val accuracy: 0.433000\n",
      "lr 2.000000e-06 reg 5.000000e-04 train accuracy: 0.433816 val accuracy: 0.419000\n",
      "best validation accuracy achieved during cross-validation: 0.433000\n"
     ]
    }
   ],
   "source": [
    "# Use the validation set to tune hyperparameters (regularization strength and\n",
    "# learning rate). You should experiment with different ranges for the learning\n",
    "# rates and regularization strengths; if you are careful you should be able to\n",
    "# get a classification accuracy of over 0.35 on the validation set.\n",
    "from cs231n.classifiers import Softmax\n",
    "results = {}\n",
    "best_val = -1\n",
    "best_softmax = None\n",
    "learning_rates = [1e-6, 2e-6]\n",
    "regularization_strengths = [2.5e-4, 5e-4]\n",
    "\n",
    "################################################################################\n",
    "# TODO:                                                                        #\n",
    "# Use the validation set to set the learning rate and regularization strength. #\n",
    "# This should be identical to the validation that you did for the SVM; save    #\n",
    "# the best trained softmax classifer in best_softmax.                          #\n",
    "################################################################################\n",
    "# Your code\n",
    "itertimes = 1201\n",
    "best_val = 0\n",
    "for learningrate in learning_rates:\n",
    "    for reg in regularization_strengths:\n",
    "        clf = Softmax()\n",
    "        clf.train(X_train, y_train,\n",
    "            learning_rate=learningrate,reg=reg,num_iters=itertimes,batch_size= 5000,verbose=True)\n",
    "        \n",
    "        y_test_pred = clf.predict(X_val)\n",
    "        acc_val = np.mean(y_val == y_test_pred,dtype=np.float32)\n",
    "        y_val_pred = clf.predict(X_train)\n",
    "        acc_train = np.mean(y_train == y_val_pred,dtype=np.float32)\n",
    "        results[(learningrate,reg)] = acc_train,acc_val\n",
    "        if acc_val > best_val:\n",
    "            best_val = acc_val\n",
    "            best_softmax = clf\n",
    "\n",
    "################################################################################\n",
    "#                              END OF YOUR CODE                                #\n",
    "################################################################################\n",
    "    \n",
    "# Print out results.\n",
    "for lr, reg in sorted(results):\n",
    "    train_accuracy, val_accuracy = results[(lr, reg)]\n",
    "    print('lr %e reg %e train accuracy: %f val accuracy: %f' % (\n",
    "                lr, reg, train_accuracy, val_accuracy))\n",
    "    \n",
    "print('best validation accuracy achieved during cross-validation: %f' % best_val)"
   ]
  },
  {
   "cell_type": "code",
   "execution_count": 66,
   "metadata": {},
   "outputs": [
    {
     "name": "stdout",
     "output_type": "stream",
     "text": [
      "softmax on raw pixels final test set accuracy: 0.390000\n"
     ]
    }
   ],
   "source": [
    "# evaluate on test set\n",
    "# Evaluate the best softmax on test set\n",
    "y_test_pred = best_softmax.predict(X_test)\n",
    "test_accuracy = np.mean(y_test == y_test_pred)\n",
    "print('softmax on raw pixels final test set accuracy: %f' % (test_accuracy, ))"
   ]
  },
  {
   "cell_type": "markdown",
   "metadata": {},
   "source": [
    "**Inline Question** - *True or False*\n",
    "\n",
    "It's possible to add a new datapoint to a training set that would leave the SVM loss unchanged, but this is not the case with the Softmax classifier loss.\n",
    "\n",
    "*Your answer*:True\n",
    "\n",
    "*Your explanation*:如果添加的数据，在SVM里面不是支持向量，则不会影响其损失函数，但是对于softmax，对于每一个点，都是有损失值的，因为预测概率不会为1。"
   ]
  },
  {
   "cell_type": "code",
   "execution_count": 64,
   "metadata": {},
   "outputs": [
    {
     "data": {
      "image/png": "[encoded data removed]",
      "text/plain": [
       "<matplotlib.figure.Figure at 0x10ac54f50>"
      ]
     },
     "metadata": {},
     "output_type": "display_data"
    }
   ],
   "source": [
    "# Visualize the learned weights for each class\n",
    "w = best_softmax.W[:-1,:] # strip out the bias\n",
    "w = w.reshape(32, 32, 3, 10)\n",
    "\n",
    "w_min, w_max = np.min(w), np.max(w)\n",
    "\n",
    "classes = ['plane', 'car', 'bird', 'cat', 'deer', 'dog', 'frog', 'horse', 'ship', 'truck']\n",
    "for i in range(10):\n",
    "    plt.subplot(2, 5, i + 1)\n",
    "    \n",
    "    # Rescale the weights to be between 0 and 255\n",
    "    wimg = 255.0 * (w[:, :, :, i].squeeze() - w_min) / (w_max - w_min)\n",
    "    plt.imshow(wimg.astype('uint8'))\n",
    "    plt.axis('off')\n",
    "    plt.title(classes[i])"
   ]
  },
  {
   "cell_type": "code",
   "execution_count": null,
   "metadata": {},
   "outputs": [],
   "source": []
  }
 ],
 "metadata": {
  "kernelspec": {
   "display_name": "Python 2",
   "language": "python",
   "name": "python2"
  },
  "language_info": {
   "codemirror_mode": {
    "name": "ipython",
    "version": 2
   },
   "file_extension": ".py",
   "mimetype": "text/x-python",
   "name": "python",
   "nbconvert_exporter": "python",
   "pygments_lexer": "ipython2",
   "version": "2.7.10"
  }
 },
 "nbformat": 4,
 "nbformat_minor": 1
}
